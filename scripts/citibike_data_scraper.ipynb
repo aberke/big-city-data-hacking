{
 "cells": [
  {
   "cell_type": "code",
   "execution_count": 4,
   "metadata": {},
   "outputs": [
    {
     "name": "stdout",
     "output_type": "stream",
     "text": [
      "Downloading https://s3.amazonaws.com/tripdata/201611-citibike-tripdata.zip\n",
      "Downloading https://s3.amazonaws.com/tripdata/201612-citibike-tripdata.zip\n"
     ]
    }
   ],
   "source": [
    "import pandas as pd\n",
    "import requests\n",
    "\n",
    "ARCHIVE_URL = \"https://s3.amazonaws.com/tripdata/\"\n",
    "\n",
    "years = range(2013, 2020)\n",
    "months = range(1, 13)\n",
    "\n",
    "#years = range(2016, 2017)\n",
    "#months = range(11, 13)\n",
    "\n",
    "for year in years:\n",
    "    for month in months:\n",
    "        filename = \"%d%s-citibike-tripdata\" % (year, str(month).zfill(2))\n",
    "        # This is fun. We're having fun right? Right?\n",
    "        if year > 2016:\n",
    "            filename += \".csv\"\n",
    "        \n",
    "        filename += \".zip\"\n",
    "        url = ARCHIVE_URL + filename\n",
    "        \n",
    "        print(\"Downloading %s\" % url)\n",
    "        resp = requests.get(url)\n",
    "        if resp.status_code != 200:\n",
    "            print(\"%s not found, skipping! (status: %d)\" % (filename, resp.status_code))\n",
    "            continue\n",
    "\n",
    "        with open(\"../data/nyc-bike/%s\" % filename, 'wb') as f:\n",
    "            f.write(resp.content)\n",
    "        "
   ]
  },
  {
   "cell_type": "code",
   "execution_count": null,
   "metadata": {},
   "outputs": [],
   "source": []
  }
 ],
 "metadata": {
  "kernelspec": {
   "display_name": "Python 3",
   "language": "python",
   "name": "python3"
  },
  "language_info": {
   "codemirror_mode": {
    "name": "ipython",
    "version": 3
   },
   "file_extension": ".py",
   "mimetype": "text/x-python",
   "name": "python",
   "nbconvert_exporter": "python",
   "pygments_lexer": "ipython3",
   "version": "3.7.3"
  }
 },
 "nbformat": 4,
 "nbformat_minor": 2
}
