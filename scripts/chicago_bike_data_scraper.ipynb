{
 "cells": [
  {
   "cell_type": "code",
   "execution_count": 1,
   "metadata": {},
   "outputs": [
    {
     "name": "stdout",
     "output_type": "stream",
     "text": [
      "Downloading https://s3.amazonaws.com/divvy-data/tripdata/Divvy_Trips_2016_Q1Q2.zip\n",
      "Downloading https://s3.amazonaws.com/divvy-data/tripdata/Divvy_Trips_2016_Q1Q2.zip\n",
      "Downloading https://s3.amazonaws.com/divvy-data/tripdata/Divvy_Trips_2016_Q3Q4.zip\n",
      "Downloading https://s3.amazonaws.com/divvy-data/tripdata/Divvy_Trips_2016_Q3Q4.zip\n",
      "Downloading https://s3.amazonaws.com/divvy-data/tripdata/Divvy_Trips_2017_Q1Q2.zip\n",
      "Downloading https://s3.amazonaws.com/divvy-data/tripdata/Divvy_Trips_2017_Q1Q2.zip\n",
      "Downloading https://s3.amazonaws.com/divvy-data/tripdata/Divvy_Trips_2017_Q3Q4.zip\n",
      "Downloading https://s3.amazonaws.com/divvy-data/tripdata/Divvy_Trips_2017_Q3Q4.zip\n",
      "Downloading https://s3.amazonaws.com/divvy-data/tripdata/Divvy_Trips_2018_Q1.zip\n",
      "Downloading https://s3.amazonaws.com/divvy-data/tripdata/Divvy_Trips_2018_Q2.zip\n",
      "Downloading https://s3.amazonaws.com/divvy-data/tripdata/Divvy_Trips_2018_Q3.zip\n",
      "Downloading https://s3.amazonaws.com/divvy-data/tripdata/Divvy_Trips_2018_Q4.zip\n",
      "Downloading https://s3.amazonaws.com/divvy-data/tripdata/Divvy_Trips_2019_Q1.zip\n",
      "Downloading https://s3.amazonaws.com/divvy-data/tripdata/Divvy_Trips_2019_Q2.zip\n",
      "Downloading https://s3.amazonaws.com/divvy-data/tripdata/Divvy_Trips_2019_Q3.zip\n",
      "Downloading https://s3.amazonaws.com/divvy-data/tripdata/Divvy_Trips_2019_Q4.zip\n",
      "Divvy_Trips_2019_Q4.zip not found, skipping! (status: 404)\n",
      "Downloading https://s3.amazonaws.com/divvy-data/tripdata/Divvy_Stations_Trips_2013.zip\n",
      "Downloading https://s3.amazonaws.com/divvy-data/tripdata/Divvy_Stations_Trips_2014_Q1Q2.zip\n",
      "Downloading https://s3.amazonaws.com/divvy-data/tripdata/Divvy_Stations_Trips_2014_Q3Q4.zip\n",
      "Downloading https://s3.amazonaws.com/divvy-data/tripdata/Divvy_Trips_2015-Q1Q2.zip\n",
      "Downloading https://s3.amazonaws.com/divvy-data/tripdata/Divvy_Trips_2015_Q3Q4.zip\n"
     ]
    }
   ],
   "source": [
    "import pandas as pd\n",
    "import requests\n",
    "\n",
    "ARCHIVE_URL = \"https://s3.amazonaws.com/divvy-data/tripdata/\" #https://s3.amazonaws.com/divvy-data/index.html\n",
    "\n",
    "# Make the list of filenames and then download them\n",
    "filenames = []\n",
    "# From 2015 Q3Q4 to 2017 they look like this: Divvy_Trips_2015_Q3Q4.zip\n",
    "# From 2018 to 2019_Q3 they look like this: Divvy_Trips_2018_Q1.zip\n",
    "for year in range(2016, 2020):\n",
    "    for quater in range(1, 5):\n",
    "        if (year <= 2017) and (quater%2 == 1):\n",
    "            filename = \"Divvy_Trips_\"+ str(year) + \"_Q\" + str(quater) + \"Q\" + str(quater+1) + \".zip\"\n",
    "        if (year >= 2018):\n",
    "            filename = \"Divvy_Trips_\"+ str(year) + \"_Q\" + str(quater) + \".zip\"\n",
    "        filenames.append(filename)\n",
    "\n",
    "    \n",
    "# And then there are these files with other names\n",
    "filenames += [\n",
    "    \"Divvy_Stations_Trips_2013.zip\",\n",
    "    \"Divvy_Stations_Trips_2014_Q1Q2.zip\",\n",
    "    \"Divvy_Stations_Trips_2014_Q3Q4.zip\",\n",
    "    \"Divvy_Trips_2015-Q1Q2.zip\",\n",
    "    \"Divvy_Trips_2015_Q3Q4.zip\",\n",
    "]\n",
    "\n",
    "for filename in filenames:\n",
    "    url = ARCHIVE_URL + filename\n",
    "    print(\"Downloading %s\" % url)\n",
    "    resp = requests.get(url)\n",
    "    if resp.status_code == 404:\n",
    "        print(\"%s not found, skipping! (status: %d)\" % (filename, resp.status_code))\n",
    "        continue\n",
    "\n",
    "    with open(\"../data/chicago-bike/%s\" % filename, 'wb') as f:\n",
    "        f.write(resp.content)"
   ]
  },
  {
   "cell_type": "code",
   "execution_count": null,
   "metadata": {},
   "outputs": [],
   "source": []
  }
 ],
 "metadata": {
  "kernelspec": {
   "display_name": "Python 3",
   "language": "python",
   "name": "python3"
  },
  "language_info": {
   "codemirror_mode": {
    "name": "ipython",
    "version": 3
   },
   "file_extension": ".py",
   "mimetype": "text/x-python",
   "name": "python",
   "nbconvert_exporter": "python",
   "pygments_lexer": "ipython3",
   "version": "3.7.3"
  }
 },
 "nbformat": 4,
 "nbformat_minor": 2
}
