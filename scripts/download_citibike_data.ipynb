{
 "cells": [
  {
   "cell_type": "code",
   "execution_count": null,
   "metadata": {},
   "outputs": [
    {
     "name": "stdout",
     "output_type": "stream",
     "text": [
      "Downloading https://s3.amazonaws.com/tripdata/201301-citibike-tripdata.zip\n",
      "201301-citibike-tripdata.zip not found, skipping! (status: 404)\n",
      "Downloading https://s3.amazonaws.com/tripdata/201302-citibike-tripdata.zip\n",
      "201302-citibike-tripdata.zip not found, skipping! (status: 404)\n",
      "Downloading https://s3.amazonaws.com/tripdata/201303-citibike-tripdata.zip\n",
      "201303-citibike-tripdata.zip not found, skipping! (status: 404)\n",
      "Downloading https://s3.amazonaws.com/tripdata/201304-citibike-tripdata.zip\n",
      "201304-citibike-tripdata.zip not found, skipping! (status: 404)\n",
      "Downloading https://s3.amazonaws.com/tripdata/201305-citibike-tripdata.zip\n",
      "201305-citibike-tripdata.zip not found, skipping! (status: 404)\n",
      "Downloading https://s3.amazonaws.com/tripdata/201306-citibike-tripdata.zip\n",
      "Downloading https://s3.amazonaws.com/tripdata/201307-citibike-tripdata.zip\n",
      "Downloading https://s3.amazonaws.com/tripdata/201308-citibike-tripdata.zip\n",
      "Downloading https://s3.amazonaws.com/tripdata/201309-citibike-tripdata.zip\n",
      "Downloading https://s3.amazonaws.com/tripdata/201310-citibike-tripdata.zip\n",
      "Downloading https://s3.amazonaws.com/tripdata/201311-citibike-tripdata.zip\n",
      "Downloading https://s3.amazonaws.com/tripdata/201312-citibike-tripdata.zip\n",
      "Downloading https://s3.amazonaws.com/tripdata/201401-citibike-tripdata.zip\n",
      "Downloading https://s3.amazonaws.com/tripdata/201402-citibike-tripdata.zip\n",
      "Downloading https://s3.amazonaws.com/tripdata/201403-citibike-tripdata.zip\n",
      "Downloading https://s3.amazonaws.com/tripdata/201404-citibike-tripdata.zip\n",
      "Downloading https://s3.amazonaws.com/tripdata/201405-citibike-tripdata.zip\n",
      "Downloading https://s3.amazonaws.com/tripdata/201406-citibike-tripdata.zip\n",
      "Downloading https://s3.amazonaws.com/tripdata/201407-citibike-tripdata.zip\n",
      "Downloading https://s3.amazonaws.com/tripdata/201408-citibike-tripdata.zip\n",
      "Downloading https://s3.amazonaws.com/tripdata/201409-citibike-tripdata.zip\n",
      "Downloading https://s3.amazonaws.com/tripdata/201410-citibike-tripdata.zip\n",
      "Downloading https://s3.amazonaws.com/tripdata/201411-citibike-tripdata.zip\n",
      "Downloading https://s3.amazonaws.com/tripdata/201412-citibike-tripdata.zip\n",
      "Downloading https://s3.amazonaws.com/tripdata/201501-citibike-tripdata.zip\n",
      "Downloading https://s3.amazonaws.com/tripdata/201502-citibike-tripdata.zip\n",
      "Downloading https://s3.amazonaws.com/tripdata/201503-citibike-tripdata.zip\n",
      "Downloading https://s3.amazonaws.com/tripdata/201504-citibike-tripdata.zip\n"
     ]
    }
   ],
   "source": [
    "import pandas as pd\n",
    "import requests\n",
    "\n",
    "ARCHIVE_URL = \"https://s3.amazonaws.com/tripdata/\"\n",
    "\n",
    "years = range(2013, 2020)\n",
    "months = range(1, 13)\n",
    "\n",
    "for year in years:\n",
    "    for month in months:\n",
    "        filename = \"%d%s-citibike-tripdata\" % (year, str(month).zfill(2))\n",
    "        # This is fun. We're having fun right? Right?\n",
    "        if year > 2016:\n",
    "            filename += \".csv\"\n",
    "        \n",
    "        filename += \".zip\"\n",
    "        url = ARCHIVE_URL + filename\n",
    "        \n",
    "        print(\"Downloading %s\" % url)\n",
    "        resp = requests.get(url)\n",
    "        if resp.status_code != 200:\n",
    "            print(\"%s not found, skipping! (status: %d)\" % (filename, resp.status_code))\n",
    "            continue\n",
    "\n",
    "        with open(\"../data/nyc-bike/%s\" % filename, 'wb') as f:\n",
    "            f.write(resp.content)\n",
    "        "
   ]
  },
  {
   "cell_type": "code",
   "execution_count": null,
   "metadata": {},
   "outputs": [],
   "source": []
  }
 ],
 "metadata": {
  "kernelspec": {
   "display_name": "Python 3",
   "language": "python",
   "name": "python3"
  },
  "language_info": {
   "codemirror_mode": {
    "name": "ipython",
    "version": 3
   },
   "file_extension": ".py",
   "mimetype": "text/x-python",
   "name": "python",
   "nbconvert_exporter": "python",
   "pygments_lexer": "ipython3",
   "version": "3.7.4"
  }
 },
 "nbformat": 4,
 "nbformat_minor": 2
}
